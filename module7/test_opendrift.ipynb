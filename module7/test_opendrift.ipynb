{
 "cells": [
  {
   "cell_type": "code",
   "execution_count": 2,
   "id": "653077e6-afac-469f-98ac-d0be12dd24fe",
   "metadata": {},
   "outputs": [
    {
     "data": {
      "text/plain": [
       "'\\n------------------------------------------------------\\nSoftware and hardware:\\n  OpenDrift version 1.14.2\\n  Platform: Linux, 5.17.4-200.fc35.x86_64\\n  31.349506378173828 GB memory\\n  8 processors (x86_64)\\n  NumPy version 2.2.6\\n  SciPy version 1.15.2\\n  Matplotlib version 3.10.3\\n  NetCDF4 version 1.7.2\\n  Xarray version 2025.9.0\\n  ADIOS (adios_db) version 1.2.5\\n  Copernicusmarine version 2.2.2\\n  Python version 3.12.11 | packaged by conda-forge | (main, Jun  4 2025, 14:45:31) [GCC 13.3.0]\\n------------------------------------------------------\\n'"
      ]
     },
     "execution_count": 2,
     "metadata": {},
     "output_type": "execute_result"
    }
   ],
   "source": [
    "import opendrift\n",
    "opendrift.versions()"
   ]
  },
  {
   "cell_type": "code",
   "execution_count": null,
   "id": "8cde259d-65ce-483b-9bf7-b3972a385d71",
   "metadata": {},
   "outputs": [],
   "source": []
  }
 ],
 "metadata": {
  "kernelspec": {
   "display_name": "Python 3 (ipykernel)",
   "language": "python",
   "name": "python3"
  },
  "language_info": {
   "codemirror_mode": {
    "name": "ipython",
    "version": 3
   },
   "file_extension": ".py",
   "mimetype": "text/x-python",
   "name": "python",
   "nbconvert_exporter": "python",
   "pygments_lexer": "ipython3",
   "version": "3.12.11"
  }
 },
 "nbformat": 4,
 "nbformat_minor": 5
}
